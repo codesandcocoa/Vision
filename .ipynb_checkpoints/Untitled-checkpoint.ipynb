{
 "cells": [
  {
   "cell_type": "code",
   "execution_count": 1,
   "metadata": {},
   "outputs": [
    {
     "name": "stdout",
     "output_type": "stream",
     "text": [
      "Requirement already satisfied: python-facebook-api in /home/dazedtiara6667/anaconda3/lib/python3.8/site-packages (0.9.2)\n",
      "Requirement already satisfied: requests-oauthlib<2.0.0,>=1.3.0 in /home/dazedtiara6667/anaconda3/lib/python3.8/site-packages (from python-facebook-api) (1.3.0)\n",
      "Requirement already satisfied: attrs<21.0.0,>=20.1.0 in /home/dazedtiara6667/anaconda3/lib/python3.8/site-packages (from python-facebook-api) (20.3.0)\n",
      "Requirement already satisfied: requests<3.0.0,>=2.24.0 in /home/dazedtiara6667/anaconda3/lib/python3.8/site-packages (from python-facebook-api) (2.25.1)\n",
      "Requirement already satisfied: cattrs<2.0,>=1.1; python_version >= \"3.7\" and python_version < \"4.0\" in /home/dazedtiara6667/anaconda3/lib/python3.8/site-packages (from python-facebook-api) (1.2.0)\n",
      "Requirement already satisfied: responses>=0.11 in /home/dazedtiara6667/anaconda3/lib/python3.8/site-packages (from python-facebook-api) (0.11.0)\n",
      "Requirement already satisfied: oauthlib>=3.0.0 in /home/dazedtiara6667/anaconda3/lib/python3.8/site-packages (from requests-oauthlib<2.0.0,>=1.3.0->python-facebook-api) (3.1.0)\n",
      "Requirement already satisfied: chardet<5,>=3.0.2 in /home/dazedtiara6667/anaconda3/lib/python3.8/site-packages (from requests<3.0.0,>=2.24.0->python-facebook-api) (3.0.4)\n",
      "Requirement already satisfied: urllib3<1.27,>=1.21.1 in /home/dazedtiara6667/anaconda3/lib/python3.8/site-packages (from requests<3.0.0,>=2.24.0->python-facebook-api) (1.26.4)\n",
      "Requirement already satisfied: idna<3,>=2.5 in /home/dazedtiara6667/anaconda3/lib/python3.8/site-packages (from requests<3.0.0,>=2.24.0->python-facebook-api) (2.10)\n",
      "Requirement already satisfied: certifi>=2017.4.17 in /home/dazedtiara6667/anaconda3/lib/python3.8/site-packages (from requests<3.0.0,>=2.24.0->python-facebook-api) (2020.6.20)\n",
      "Requirement already satisfied: six in /home/dazedtiara6667/anaconda3/lib/python3.8/site-packages (from responses>=0.11->python-facebook-api) (1.15.0)\n",
      "Note: you may need to restart the kernel to use updated packages.\n"
     ]
    }
   ],
   "source": [
    "!pip install python-facebook-api"
   ]
  },
  {
   "cell_type": "code",
   "execution_count": 4,
   "metadata": {},
   "outputs": [
    {
     "ename": "SyntaxError",
     "evalue": "invalid syntax (<ipython-input-4-2b63fb85cc62>, line 1)",
     "output_type": "error",
     "traceback": [
      "\u001b[0;36m  File \u001b[0;32m\"<ipython-input-4-2b63fb85cc62>\"\u001b[0;36m, line \u001b[0;32m1\u001b[0m\n\u001b[0;31m    from python-facebook-api import pyfacebook.Api\u001b[0m\n\u001b[0m               ^\u001b[0m\n\u001b[0;31mSyntaxError\u001b[0m\u001b[0;31m:\u001b[0m invalid syntax\n"
     ]
    }
   ],
   "source": [
    "from python-facebook-api import pyfacebook.Api"
   ]
  },
  {
   "cell_type": "code",
   "execution_count": 2,
   "metadata": {},
   "outputs": [
    {
     "ename": "NameError",
     "evalue": "name 'Api' is not defined",
     "output_type": "error",
     "traceback": [
      "\u001b[0;31m---------------------------------------------------------------------------\u001b[0m",
      "\u001b[0;31mNameError\u001b[0m                                 Traceback (most recent call last)",
      "\u001b[0;32m<ipython-input-2-d88e72e7d5d8>\u001b[0m in \u001b[0;36m<module>\u001b[0;34m\u001b[0m\n\u001b[0;32m----> 1\u001b[0;31m \u001b[0mapi\u001b[0m \u001b[0;34m=\u001b[0m \u001b[0mApi\u001b[0m\u001b[0;34m(\u001b[0m\u001b[0mapp_id\u001b[0m\u001b[0;34m=\u001b[0m\u001b[0;34m\"1738091339705069\"\u001b[0m\u001b[0;34m,\u001b[0m \u001b[0mapp_secret\u001b[0m\u001b[0;34m=\u001b[0m\u001b[0;34m\"EAAGVI9ZCtSbgBADPs0UILl7hoKiqhIbgOEClrqp1ExYtlNqaWBZAm6Bt7Egm7lZAJCnQ2EL5MPjK4ePde8eLaFY5DFXqNZC0oce72KFriY1TmIyXOF7CGVAdfZAV3DGpxryJimA9FZCB3YAe4JKLVZA8f1vZCkX1ThBxakuqmZAI2dHPfK7WYCCebxJXsYvdXnRmECXiZCAlM5iAZDZD\"\u001b[0m\u001b[0;34m,\u001b[0m \u001b[0mapplication_only_auth\u001b[0m\u001b[0;34m=\u001b[0m\u001b[0;32mTrue\u001b[0m\u001b[0;34m)\u001b[0m\u001b[0;34m\u001b[0m\u001b[0;34m\u001b[0m\u001b[0m\n\u001b[0m",
      "\u001b[0;31mNameError\u001b[0m: name 'Api' is not defined"
     ]
    }
   ],
   "source": [
    "api = Api(app_id=\"1738091339705069\", app_secret=\"EAAYsyOzj6u0BAAfEsFOtYbY6cXGJZCZCGpAwJxVltPbNloRZAVCSPHIN7QGl5pDDZAFOpocGWzXuPh9dUmbf70MZAIxUyeYzERPnXTQIbxNtEuale3LHYB1zZCWVEn6GJ3yHzIu6Y4n5gZAkgqNx1BIeFuy8KZCrEKR6tZCYlqcZBhZCKhAN7xZCh1MYihEScyTXZAXuqlyCEdi4iRolEej4SriP8CCZC9hOdvm2ZAmE9iEpiOdj1I7mvx7putm\")"
   ]
  },
  {
   "cell_type": "code",
   "execution_count": 5,
   "metadata": {},
   "outputs": [
    {
     "data": {
      "text/plain": [
       "<Response [200]>"
      ]
     },
     "execution_count": 5,
     "metadata": {},
     "output_type": "execute_result"
    }
   ],
   "source": [
    "import requests\n",
    "token = \n",
    "query = \"coffee\"\n",
    "requests.get(\"https://graph.facebook.com/search?access_token=\" + token +  \"&q=\" + query + \"&type=page\")"
   ]
  },
  {
   "cell_type": "code",
   "execution_count": 6,
   "metadata": {},
   "outputs": [
    {
     "name": "stdout",
     "output_type": "stream",
     "text": [
      "Obtaining facebook-sdk from git+https://github.com/mobolic/facebook-sdk.git#egg=facebook-sdk\n",
      "  Cloning https://github.com/mobolic/facebook-sdk.git to ./src/facebook-sdk\n",
      "  Running command git clone -q https://github.com/mobolic/facebook-sdk.git /home/dazedtiara6667/GitHub/Vision/src/facebook-sdk\n",
      "Requirement already satisfied: requests in /home/dazedtiara6667/anaconda3/lib/python3.8/site-packages (from facebook-sdk) (2.25.1)\n",
      "Requirement already satisfied: urllib3<1.27,>=1.21.1 in /home/dazedtiara6667/anaconda3/lib/python3.8/site-packages (from requests->facebook-sdk) (1.26.4)\n",
      "Requirement already satisfied: certifi>=2017.4.17 in /home/dazedtiara6667/anaconda3/lib/python3.8/site-packages (from requests->facebook-sdk) (2020.6.20)\n",
      "Requirement already satisfied: chardet<5,>=3.0.2 in /home/dazedtiara6667/anaconda3/lib/python3.8/site-packages (from requests->facebook-sdk) (3.0.4)\n",
      "Requirement already satisfied: idna<3,>=2.5 in /home/dazedtiara6667/anaconda3/lib/python3.8/site-packages (from requests->facebook-sdk) (2.10)\n",
      "Installing collected packages: facebook-sdk\n",
      "  Attempting uninstall: facebook-sdk\n",
      "    Found existing installation: facebook-sdk 3.1.0\n",
      "    Uninstalling facebook-sdk-3.1.0:\n",
      "      Successfully uninstalled facebook-sdk-3.1.0\n",
      "  Running setup.py develop for facebook-sdk\n",
      "Successfully installed facebook-sdk\n"
     ]
    }
   ],
   "source": [
    "!pip install -e git+https://github.com/mobolic/facebook-sdk.git#egg=facebook-sdk"
   ]
  },
  {
   "cell_type": "code",
   "execution_count": 12,
   "metadata": {},
   "outputs": [
    {
     "name": "stdout",
     "output_type": "stream",
     "text": [
      "Collecting facebook-sdk\n",
      "  Using cached facebook_sdk-3.1.0-py2.py3-none-any.whl (7.5 kB)\n",
      "Requirement already satisfied: requests in /home/dazedtiara6667/anaconda3/lib/python3.8/site-packages (from facebook-sdk) (2.25.1)\n",
      "Requirement already satisfied: chardet<5,>=3.0.2 in /home/dazedtiara6667/anaconda3/lib/python3.8/site-packages (from requests->facebook-sdk) (3.0.4)\n",
      "Requirement already satisfied: urllib3<1.27,>=1.21.1 in /home/dazedtiara6667/anaconda3/lib/python3.8/site-packages (from requests->facebook-sdk) (1.26.4)\n",
      "Requirement already satisfied: certifi>=2017.4.17 in /home/dazedtiara6667/anaconda3/lib/python3.8/site-packages (from requests->facebook-sdk) (2020.6.20)\n",
      "Requirement already satisfied: idna<3,>=2.5 in /home/dazedtiara6667/anaconda3/lib/python3.8/site-packages (from requests->facebook-sdk) (2.10)\n",
      "Installing collected packages: facebook-sdk\n",
      "Successfully installed facebook-sdk-3.1.0\n"
     ]
    }
   ],
   "source": [
    "!pip install facebook-sdk"
   ]
  },
  {
   "cell_type": "code",
   "execution_count": 30,
   "metadata": {},
   "outputs": [
    {
     "ename": "GraphAPIError",
     "evalue": "(#12) Place Search API is deprecated for third parties effective v8.0 is deprecated",
     "output_type": "error",
     "traceback": [
      "\u001b[0;31m---------------------------------------------------------------------------\u001b[0m",
      "\u001b[0;31mGraphAPIError\u001b[0m                             Traceback (most recent call last)",
      "\u001b[0;32m<ipython-input-30-01f1e1954d57>\u001b[0m in \u001b[0;36m<module>\u001b[0;34m\u001b[0m\n\u001b[1;32m      4\u001b[0m \u001b[0;34m\u001b[0m\u001b[0m\n\u001b[1;32m      5\u001b[0m \u001b[0mgraph\u001b[0m \u001b[0;34m=\u001b[0m \u001b[0mfacebook\u001b[0m\u001b[0;34m.\u001b[0m\u001b[0mGraphAPI\u001b[0m\u001b[0;34m(\u001b[0m\u001b[0maccess_token\u001b[0m\u001b[0;34m=\u001b[0m\u001b[0mTOKEN\u001b[0m\u001b[0;34m,\u001b[0m \u001b[0mversion\u001b[0m\u001b[0;34m=\u001b[0m\u001b[0;34m\"3.0\"\u001b[0m\u001b[0;34m)\u001b[0m\u001b[0;34m\u001b[0m\u001b[0;34m\u001b[0m\u001b[0m\n\u001b[0;32m----> 6\u001b[0;31m \u001b[0mposts\u001b[0m \u001b[0;34m=\u001b[0m \u001b[0mgraph\u001b[0m\u001b[0;34m.\u001b[0m\u001b[0mrequest\u001b[0m\u001b[0;34m(\u001b[0m\u001b[0;34m'search'\u001b[0m\u001b[0;34m,\u001b[0m \u001b[0;34m{\u001b[0m\u001b[0;34m'q'\u001b[0m\u001b[0;34m:\u001b[0m \u001b[0;34m'Tony'\u001b[0m\u001b[0;34m,\u001b[0m \u001b[0;34m'type'\u001b[0m\u001b[0;34m:\u001b[0m \u001b[0;34m'place'\u001b[0m\u001b[0;34m}\u001b[0m\u001b[0;34m)\u001b[0m\u001b[0;34m\u001b[0m\u001b[0;34m\u001b[0m\u001b[0m\n\u001b[0m\u001b[1;32m      7\u001b[0m data = graph.search(\n\u001b[1;32m      8\u001b[0m             \u001b[0mq\u001b[0m\u001b[0;34m=\u001b[0m\u001b[0;34m'aquafresh'\u001b[0m\u001b[0;34m,\u001b[0m\u001b[0;34m\u001b[0m\u001b[0;34m\u001b[0m\u001b[0m\n",
      "\u001b[0;32m~/anaconda3/lib/python3.8/site-packages/facebook/__init__.py\u001b[0m in \u001b[0;36mrequest\u001b[0;34m(self, path, args, post_args, files, method)\u001b[0m\n",
      "\u001b[0;31mGraphAPIError\u001b[0m: (#12) Place Search API is deprecated for third parties effective v8.0 is deprecated"
     ]
    }
   ],
   "source": [
    "import facebook\n",
    "\n",
    "TOKEN = \"EAAYsyOzj6u0BAIXRZBcZCfAjdMHv4fZAaKNY5RskhqhXqcwT0W1IX4BDlBfyq0Jh4JijEPkX3inkie9S1T3StAztNMtXJYOI81jJIQRXnnZBQmEZBDf7Yal0i8i9YBrsW1BNM8ZB0OrDxTendt45J8uLh7ZAZA7ZCURo76XbJ5ZC3ZBx9FkBB0XADEjLIN8iw3oSkvoezP2YKQZARsM65Kc5GZAZBC\" # Your GraphAPI token here.\n",
    "\n",
    "graph = facebook.GraphAPI(access_token=TOKEN, version=\"3.0\")\n",
    "posts = graph.request('search', {'q': 'Tony', 'type': 'place'})\n",
    "data = graph.search(\n",
    "            q='aquafresh',\n",
    "            type='post'\n",
    "            )\n",
    "print(data)"
   ]
  },
  {
   "cell_type": "code",
   "execution_count": 18,
   "metadata": {},
   "outputs": [
    {
     "name": "stdout",
     "output_type": "stream",
     "text": [
      "Obtaining facebook-sdk from git+https://github.com/mobolic/facebook-sdk.git#egg=facebook-sdk\n",
      "  Cloning https://github.com/mobolic/facebook-sdk.git to ./src/facebook-sdk\n",
      "  Running command git clone -q https://github.com/mobolic/facebook-sdk.git /home/dazedtiara6667/GitHub/Vision/src/facebook-sdk\n",
      "Requirement already satisfied: requests in /home/dazedtiara6667/anaconda3/lib/python3.8/site-packages (from facebook-sdk) (2.25.1)\n",
      "Requirement already satisfied: urllib3<1.27,>=1.21.1 in /home/dazedtiara6667/anaconda3/lib/python3.8/site-packages (from requests->facebook-sdk) (1.26.4)\n",
      "Requirement already satisfied: chardet<5,>=3.0.2 in /home/dazedtiara6667/anaconda3/lib/python3.8/site-packages (from requests->facebook-sdk) (3.0.4)\n",
      "Requirement already satisfied: certifi>=2017.4.17 in /home/dazedtiara6667/anaconda3/lib/python3.8/site-packages (from requests->facebook-sdk) (2020.6.20)\n",
      "Requirement already satisfied: idna<3,>=2.5 in /home/dazedtiara6667/anaconda3/lib/python3.8/site-packages (from requests->facebook-sdk) (2.10)\n",
      "Installing collected packages: facebook-sdk\n",
      "  Attempting uninstall: facebook-sdk\n",
      "    Found existing installation: facebook-sdk 3.1.0\n",
      "    Uninstalling facebook-sdk-3.1.0:\n",
      "      Successfully uninstalled facebook-sdk-3.1.0\n",
      "  Running setup.py develop for facebook-sdk\n",
      "Successfully installed facebook-sdk\n"
     ]
    }
   ],
   "source": [
    "!pip install -e git+https://github.com/mobolic/facebook-sdk.git#egg=facebook-sdk"
   ]
  },
  {
   "cell_type": "code",
   "execution_count": 33,
   "metadata": {},
   "outputs": [],
   "source": [
    "user=\"RishabMudliar\""
   ]
  },
  {
   "cell_type": "code",
   "execution_count": 32,
   "metadata": {},
   "outputs": [
    {
     "data": {
      "text/plain": [
       "{'data': []}"
      ]
     },
     "execution_count": 32,
     "metadata": {},
     "output_type": "execute_result"
    }
   ],
   "source": [
    "graph.get_connections(id='497168131479164', connection_name='friends')"
   ]
  },
  {
   "cell_type": "code",
   "execution_count": 34,
   "metadata": {},
   "outputs": [
    {
     "ename": "GraphAPIError",
     "evalue": "(#803) Some of the aliases you requested do not exist: Rishab Mudliar",
     "output_type": "error",
     "traceback": [
      "\u001b[0;31m---------------------------------------------------------------------------\u001b[0m",
      "\u001b[0;31mGraphAPIError\u001b[0m                             Traceback (most recent call last)",
      "\u001b[0;32m<ipython-input-34-5fd9bf729042>\u001b[0m in \u001b[0;36m<module>\u001b[0;34m\u001b[0m\n\u001b[0;32m----> 1\u001b[0;31m \u001b[0mprofile\u001b[0m \u001b[0;34m=\u001b[0m \u001b[0mgraph\u001b[0m\u001b[0;34m.\u001b[0m\u001b[0mget_object\u001b[0m\u001b[0;34m(\u001b[0m\u001b[0muser\u001b[0m\u001b[0;34m)\u001b[0m\u001b[0;34m\u001b[0m\u001b[0;34m\u001b[0m\u001b[0m\n\u001b[0m",
      "\u001b[0;32m~/anaconda3/lib/python3.8/site-packages/facebook/__init__.py\u001b[0m in \u001b[0;36mget_object\u001b[0;34m(self, id, **args)\u001b[0m\n",
      "\u001b[0;32m~/anaconda3/lib/python3.8/site-packages/facebook/__init__.py\u001b[0m in \u001b[0;36mrequest\u001b[0;34m(self, path, args, post_args, files, method)\u001b[0m\n",
      "\u001b[0;31mGraphAPIError\u001b[0m: (#803) Some of the aliases you requested do not exist: Rishab Mudliar"
     ]
    }
   ],
   "source": [
    "profile = graph.get_object(user)"
   ]
  },
  {
   "cell_type": "code",
   "execution_count": null,
   "metadata": {},
   "outputs": [],
   "source": []
  }
 ],
 "metadata": {
  "kernelspec": {
   "display_name": "Python 3",
   "language": "python",
   "name": "python3"
  },
  "language_info": {
   "codemirror_mode": {
    "name": "ipython",
    "version": 3
   },
   "file_extension": ".py",
   "mimetype": "text/x-python",
   "name": "python",
   "nbconvert_exporter": "python",
   "pygments_lexer": "ipython3",
   "version": "3.8.3"
  }
 },
 "nbformat": 4,
 "nbformat_minor": 4
}

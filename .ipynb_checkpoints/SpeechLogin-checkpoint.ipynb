{
 "cells": [
  {
   "cell_type": "code",
   "execution_count": 62,
   "metadata": {},
   "outputs": [],
   "source": [
    "from selenium import webdriver \n",
    "from selenium.webdriver.common.keys import Keys\n",
    "from selenium.webdriver.common.by import By\n",
    "from selenium.webdriver.support.ui import WebDriverWait\n",
    "from selenium.webdriver.support import expected_conditions as EC\n",
    "from selenium.webdriver.chrome.options import Options\n",
    "from selenium.webdriver.common.action_chains import ActionChains\n",
    "from AudioProcessor import *\n",
    "import time"
   ]
  },
  {
   "cell_type": "code",
   "execution_count": 23,
   "metadata": {},
   "outputs": [],
   "source": [
    "import gi"
   ]
  },
  {
   "cell_type": "code",
   "execution_count": 18,
   "metadata": {},
   "outputs": [
    {
     "name": "stdout",
     "output_type": "stream",
     "text": [
      "Collecting robobrowser\n",
      "  Downloading robobrowser-0.5.3.tar.gz (22 kB)\n",
      "Requirement already satisfied: beautifulsoup4>=4.3.2 in /home/dazedtiara6667/anaconda3/lib/python3.8/site-packages (from robobrowser) (4.9.3)\n",
      "Requirement already satisfied: requests>=2.6.0 in /home/dazedtiara6667/anaconda3/lib/python3.8/site-packages (from robobrowser) (2.25.1)\n",
      "Requirement already satisfied: six>=1.9.0 in /home/dazedtiara6667/anaconda3/lib/python3.8/site-packages (from robobrowser) (1.15.0)\n",
      "Requirement already satisfied: Werkzeug>=0.10.4 in /home/dazedtiara6667/anaconda3/lib/python3.8/site-packages (from robobrowser) (1.0.1)\n",
      "Requirement already satisfied: soupsieve>1.2; python_version >= \"3.0\" in /home/dazedtiara6667/anaconda3/lib/python3.8/site-packages (from beautifulsoup4>=4.3.2->robobrowser) (2.0.1)\n",
      "Requirement already satisfied: certifi>=2017.4.17 in /home/dazedtiara6667/anaconda3/lib/python3.8/site-packages (from requests>=2.6.0->robobrowser) (2020.6.20)\n",
      "Requirement already satisfied: urllib3<1.27,>=1.21.1 in /home/dazedtiara6667/anaconda3/lib/python3.8/site-packages (from requests>=2.6.0->robobrowser) (1.25.9)\n",
      "Requirement already satisfied: chardet<5,>=3.0.2 in /home/dazedtiara6667/anaconda3/lib/python3.8/site-packages (from requests>=2.6.0->robobrowser) (3.0.4)\n",
      "Requirement already satisfied: idna<3,>=2.5 in /home/dazedtiara6667/anaconda3/lib/python3.8/site-packages (from requests>=2.6.0->robobrowser) (2.10)\n",
      "Building wheels for collected packages: robobrowser\n",
      "  Building wheel for robobrowser (setup.py) ... \u001b[?25ldone\n",
      "\u001b[?25h  Created wheel for robobrowser: filename=robobrowser-0.5.3-py3-none-any.whl size=16417 sha256=b958bc61a9648549c425e7a9a9ca29f26512d1d77bda51b690e616ad41a921bb\n",
      "  Stored in directory: /home/dazedtiara6667/.cache/pip/wheels/29/f5/46/15be591132a6321c7c4f02e7c6c54efdc016b847f5642143f2\n",
      "Successfully built robobrowser\n",
      "Installing collected packages: robobrowser\n",
      "Successfully installed robobrowser-0.5.3\n"
     ]
    }
   ],
   "source": [
    "!pip install robobrowser"
   ]
  },
  {
   "cell_type": "code",
   "execution_count": null,
   "metadata": {},
   "outputs": [],
   "source": [
    "PATH = 'chromedriver.exe'"
   ]
  },
  {
   "cell_type": "code",
   "execution_count": 4,
   "metadata": {},
   "outputs": [],
   "source": [
    "from webdriver_manager.chrome import ChromeDriverManager"
   ]
  },
  {
   "cell_type": "code",
   "execution_count": 7,
   "metadata": {},
   "outputs": [],
   "source": [
    "option = Options()\n",
    "option.add_argument(\"--disable-infobars\")\n",
    "option.add_argument(\"start-maximized\")\n",
    "option.add_argument(\"--disable-extensions\")\n",
    "# Pass the argument 1 to allow and 2 to block\n",
    "option.add_experimental_option(\"prefs\", { \n",
    "    \"profile.default_content_setting_values.notifications\": 2 \n",
    "})"
   ]
  },
  {
   "cell_type": "code",
   "execution_count": 57,
   "metadata": {},
   "outputs": [
    {
     "name": "stderr",
     "output_type": "stream",
     "text": [
      "<ipython-input-57-0fd2de14dc06>:1: DeprecationWarning: use options instead of chrome_options\n",
      "  driver = webdriver.Chrome(chrome_options=option)\n"
     ]
    }
   ],
   "source": [
    "driver = webdriver.Chrome(chrome_options=option)"
   ]
  },
  {
   "cell_type": "code",
   "execution_count": 58,
   "metadata": {},
   "outputs": [],
   "source": [
    "driver.get(\"https://www.facebook.com/\")"
   ]
  },
  {
   "cell_type": "code",
   "execution_count": 11,
   "metadata": {},
   "outputs": [
    {
     "ename": "NoSuchElementException",
     "evalue": "Message: no such element: Unable to locate element: {\"method\":\"id\",\"selector\":\"loginbutton\"}\n  (Session info: chrome=88.0.4324.96)\n  (Driver info: chromedriver=2.41.578700 (2f1ed5f9343c13f73144538f15c00b370eda6706),platform=Linux 5.4.0-65-generic x86_64)\n",
     "output_type": "error",
     "traceback": [
      "\u001b[0;31m---------------------------------------------------------------------------\u001b[0m",
      "\u001b[0;31mNoSuchElementException\u001b[0m                    Traceback (most recent call last)",
      "\u001b[0;32m<ipython-input-11-8212a4254eba>\u001b[0m in \u001b[0;36m<module>\u001b[0;34m\u001b[0m\n\u001b[1;32m      6\u001b[0m  \u001b[0mbutton\u001b[0m \u001b[0;34m=\u001b[0m \u001b[0mdriver\u001b[0m\u001b[0;34m.\u001b[0m\u001b[0mfind_element_by_id\u001b[0m\u001b[0;34m(\u001b[0m\u001b[0;34m\"loginbutton\"\u001b[0m\u001b[0;34m)\u001b[0m\u001b[0;34m.\u001b[0m\u001b[0mclick\u001b[0m\u001b[0;34m(\u001b[0m\u001b[0;34m)\u001b[0m\u001b[0;34m\u001b[0m\u001b[0;34m\u001b[0m\u001b[0m\n\u001b[1;32m      7\u001b[0m  \u001b[0;32mpass\u001b[0m\u001b[0;34m\u001b[0m\u001b[0;34m\u001b[0m\u001b[0m\n\u001b[0;32m----> 8\u001b[0;31m \u001b[0mlogin\u001b[0m\u001b[0;34m(\u001b[0m\u001b[0;36m9307057388\u001b[0m\u001b[0;34m,\u001b[0m\u001b[0;34m\"spaces\"\u001b[0m\u001b[0;34m)\u001b[0m\u001b[0;34m\u001b[0m\u001b[0;34m\u001b[0m\u001b[0m\n\u001b[0m",
      "\u001b[0;32m<ipython-input-11-8212a4254eba>\u001b[0m in \u001b[0;36mlogin\u001b[0;34m(id, password)\u001b[0m\n\u001b[1;32m      4\u001b[0m  \u001b[0mPassword\u001b[0m \u001b[0;34m=\u001b[0m \u001b[0mdriver\u001b[0m\u001b[0;34m.\u001b[0m\u001b[0mfind_element_by_id\u001b[0m\u001b[0;34m(\u001b[0m\u001b[0;34m\"pass\"\u001b[0m\u001b[0;34m)\u001b[0m\u001b[0;34m\u001b[0m\u001b[0;34m\u001b[0m\u001b[0m\n\u001b[1;32m      5\u001b[0m  \u001b[0mPassword\u001b[0m\u001b[0;34m.\u001b[0m\u001b[0msend_keys\u001b[0m\u001b[0;34m(\u001b[0m\u001b[0mpassword\u001b[0m\u001b[0;34m)\u001b[0m\u001b[0;34m\u001b[0m\u001b[0;34m\u001b[0m\u001b[0m\n\u001b[0;32m----> 6\u001b[0;31m  \u001b[0mbutton\u001b[0m \u001b[0;34m=\u001b[0m \u001b[0mdriver\u001b[0m\u001b[0;34m.\u001b[0m\u001b[0mfind_element_by_id\u001b[0m\u001b[0;34m(\u001b[0m\u001b[0;34m\"loginbutton\"\u001b[0m\u001b[0;34m)\u001b[0m\u001b[0;34m.\u001b[0m\u001b[0mclick\u001b[0m\u001b[0;34m(\u001b[0m\u001b[0;34m)\u001b[0m\u001b[0;34m\u001b[0m\u001b[0;34m\u001b[0m\u001b[0m\n\u001b[0m\u001b[1;32m      7\u001b[0m  \u001b[0;32mpass\u001b[0m\u001b[0;34m\u001b[0m\u001b[0;34m\u001b[0m\u001b[0m\n\u001b[1;32m      8\u001b[0m \u001b[0mlogin\u001b[0m\u001b[0;34m(\u001b[0m\u001b[0;36m9307057388\u001b[0m\u001b[0;34m,\u001b[0m\u001b[0;34m\"spaces\"\u001b[0m\u001b[0;34m)\u001b[0m\u001b[0;34m\u001b[0m\u001b[0;34m\u001b[0m\u001b[0m\n",
      "\u001b[0;32m~/anaconda3/lib/python3.8/site-packages/selenium/webdriver/remote/webdriver.py\u001b[0m in \u001b[0;36mfind_element_by_id\u001b[0;34m(self, id_)\u001b[0m\n\u001b[1;32m    358\u001b[0m             \u001b[0melement\u001b[0m \u001b[0;34m=\u001b[0m \u001b[0mdriver\u001b[0m\u001b[0;34m.\u001b[0m\u001b[0mfind_element_by_id\u001b[0m\u001b[0;34m(\u001b[0m\u001b[0;34m'foo'\u001b[0m\u001b[0;34m)\u001b[0m\u001b[0;34m\u001b[0m\u001b[0;34m\u001b[0m\u001b[0m\n\u001b[1;32m    359\u001b[0m         \"\"\"\n\u001b[0;32m--> 360\u001b[0;31m         \u001b[0;32mreturn\u001b[0m \u001b[0mself\u001b[0m\u001b[0;34m.\u001b[0m\u001b[0mfind_element\u001b[0m\u001b[0;34m(\u001b[0m\u001b[0mby\u001b[0m\u001b[0;34m=\u001b[0m\u001b[0mBy\u001b[0m\u001b[0;34m.\u001b[0m\u001b[0mID\u001b[0m\u001b[0;34m,\u001b[0m \u001b[0mvalue\u001b[0m\u001b[0;34m=\u001b[0m\u001b[0mid_\u001b[0m\u001b[0;34m)\u001b[0m\u001b[0;34m\u001b[0m\u001b[0;34m\u001b[0m\u001b[0m\n\u001b[0m\u001b[1;32m    361\u001b[0m \u001b[0;34m\u001b[0m\u001b[0m\n\u001b[1;32m    362\u001b[0m     \u001b[0;32mdef\u001b[0m \u001b[0mfind_elements_by_id\u001b[0m\u001b[0;34m(\u001b[0m\u001b[0mself\u001b[0m\u001b[0;34m,\u001b[0m \u001b[0mid_\u001b[0m\u001b[0;34m)\u001b[0m\u001b[0;34m:\u001b[0m\u001b[0;34m\u001b[0m\u001b[0;34m\u001b[0m\u001b[0m\n",
      "\u001b[0;32m~/anaconda3/lib/python3.8/site-packages/selenium/webdriver/remote/webdriver.py\u001b[0m in \u001b[0;36mfind_element\u001b[0;34m(self, by, value)\u001b[0m\n\u001b[1;32m    974\u001b[0m                 \u001b[0mby\u001b[0m \u001b[0;34m=\u001b[0m \u001b[0mBy\u001b[0m\u001b[0;34m.\u001b[0m\u001b[0mCSS_SELECTOR\u001b[0m\u001b[0;34m\u001b[0m\u001b[0;34m\u001b[0m\u001b[0m\n\u001b[1;32m    975\u001b[0m                 \u001b[0mvalue\u001b[0m \u001b[0;34m=\u001b[0m \u001b[0;34m'[name=\"%s\"]'\u001b[0m \u001b[0;34m%\u001b[0m \u001b[0mvalue\u001b[0m\u001b[0;34m\u001b[0m\u001b[0;34m\u001b[0m\u001b[0m\n\u001b[0;32m--> 976\u001b[0;31m         return self.execute(Command.FIND_ELEMENT, {\n\u001b[0m\u001b[1;32m    977\u001b[0m             \u001b[0;34m'using'\u001b[0m\u001b[0;34m:\u001b[0m \u001b[0mby\u001b[0m\u001b[0;34m,\u001b[0m\u001b[0;34m\u001b[0m\u001b[0;34m\u001b[0m\u001b[0m\n\u001b[1;32m    978\u001b[0m             'value': value})['value']\n",
      "\u001b[0;32m~/anaconda3/lib/python3.8/site-packages/selenium/webdriver/remote/webdriver.py\u001b[0m in \u001b[0;36mexecute\u001b[0;34m(self, driver_command, params)\u001b[0m\n\u001b[1;32m    319\u001b[0m         \u001b[0mresponse\u001b[0m \u001b[0;34m=\u001b[0m \u001b[0mself\u001b[0m\u001b[0;34m.\u001b[0m\u001b[0mcommand_executor\u001b[0m\u001b[0;34m.\u001b[0m\u001b[0mexecute\u001b[0m\u001b[0;34m(\u001b[0m\u001b[0mdriver_command\u001b[0m\u001b[0;34m,\u001b[0m \u001b[0mparams\u001b[0m\u001b[0;34m)\u001b[0m\u001b[0;34m\u001b[0m\u001b[0;34m\u001b[0m\u001b[0m\n\u001b[1;32m    320\u001b[0m         \u001b[0;32mif\u001b[0m \u001b[0mresponse\u001b[0m\u001b[0;34m:\u001b[0m\u001b[0;34m\u001b[0m\u001b[0;34m\u001b[0m\u001b[0m\n\u001b[0;32m--> 321\u001b[0;31m             \u001b[0mself\u001b[0m\u001b[0;34m.\u001b[0m\u001b[0merror_handler\u001b[0m\u001b[0;34m.\u001b[0m\u001b[0mcheck_response\u001b[0m\u001b[0;34m(\u001b[0m\u001b[0mresponse\u001b[0m\u001b[0;34m)\u001b[0m\u001b[0;34m\u001b[0m\u001b[0;34m\u001b[0m\u001b[0m\n\u001b[0m\u001b[1;32m    322\u001b[0m             response['value'] = self._unwrap_value(\n\u001b[1;32m    323\u001b[0m                 response.get('value', None))\n",
      "\u001b[0;32m~/anaconda3/lib/python3.8/site-packages/selenium/webdriver/remote/errorhandler.py\u001b[0m in \u001b[0;36mcheck_response\u001b[0;34m(self, response)\u001b[0m\n\u001b[1;32m    240\u001b[0m                 \u001b[0malert_text\u001b[0m \u001b[0;34m=\u001b[0m \u001b[0mvalue\u001b[0m\u001b[0;34m[\u001b[0m\u001b[0;34m'alert'\u001b[0m\u001b[0;34m]\u001b[0m\u001b[0;34m.\u001b[0m\u001b[0mget\u001b[0m\u001b[0;34m(\u001b[0m\u001b[0;34m'text'\u001b[0m\u001b[0;34m)\u001b[0m\u001b[0;34m\u001b[0m\u001b[0;34m\u001b[0m\u001b[0m\n\u001b[1;32m    241\u001b[0m             \u001b[0;32mraise\u001b[0m \u001b[0mexception_class\u001b[0m\u001b[0;34m(\u001b[0m\u001b[0mmessage\u001b[0m\u001b[0;34m,\u001b[0m \u001b[0mscreen\u001b[0m\u001b[0;34m,\u001b[0m \u001b[0mstacktrace\u001b[0m\u001b[0;34m,\u001b[0m \u001b[0malert_text\u001b[0m\u001b[0;34m)\u001b[0m\u001b[0;34m\u001b[0m\u001b[0;34m\u001b[0m\u001b[0m\n\u001b[0;32m--> 242\u001b[0;31m         \u001b[0;32mraise\u001b[0m \u001b[0mexception_class\u001b[0m\u001b[0;34m(\u001b[0m\u001b[0mmessage\u001b[0m\u001b[0;34m,\u001b[0m \u001b[0mscreen\u001b[0m\u001b[0;34m,\u001b[0m \u001b[0mstacktrace\u001b[0m\u001b[0;34m)\u001b[0m\u001b[0;34m\u001b[0m\u001b[0;34m\u001b[0m\u001b[0m\n\u001b[0m\u001b[1;32m    243\u001b[0m \u001b[0;34m\u001b[0m\u001b[0m\n\u001b[1;32m    244\u001b[0m     \u001b[0;32mdef\u001b[0m \u001b[0m_value_or_default\u001b[0m\u001b[0;34m(\u001b[0m\u001b[0mself\u001b[0m\u001b[0;34m,\u001b[0m \u001b[0mobj\u001b[0m\u001b[0;34m,\u001b[0m \u001b[0mkey\u001b[0m\u001b[0;34m,\u001b[0m \u001b[0mdefault\u001b[0m\u001b[0;34m)\u001b[0m\u001b[0;34m:\u001b[0m\u001b[0;34m\u001b[0m\u001b[0;34m\u001b[0m\u001b[0m\n",
      "\u001b[0;31mNoSuchElementException\u001b[0m: Message: no such element: Unable to locate element: {\"method\":\"id\",\"selector\":\"loginbutton\"}\n  (Session info: chrome=88.0.4324.96)\n  (Driver info: chromedriver=2.41.578700 (2f1ed5f9343c13f73144538f15c00b370eda6706),platform=Linux 5.4.0-65-generic x86_64)\n"
     ]
    }
   ],
   "source": [
    "def login(id,password):\n",
    " email = driver.find_element_by_id(\"email\")\n",
    " email.send_keys(id)\n",
    " Password = driver.find_element_by_id(\"pass\")\n",
    " Password.send_keys(password)\n",
    " button = driver.find_element_by_id(\"loginbutton\").click()\n",
    " pass\n"
   ]
  },
  {
   "cell_type": "code",
   "execution_count": 37,
   "metadata": {},
   "outputs": [],
   "source": [
    "def post_content(msg):\n",
    "    body =  driver.find_element_by_xpath('/html/body/div[1]/div/div/div[1]/div[3]/div/div/div[1]/div/div/div[2]/div/div/div[3]/div/div[2]/div/div/div/div[1]')\n",
    "    body.click()\n",
    "    time.sleep(3) ## A 3 second break in the program so that everythin loads perfectly\n",
    "  ## Press ENTER to post the content on facebook\n",
    "    message = driver.find_element_by_xpath('/html/body/div[1]/div/div/div[1]/div[4]/div/div/div[1]/div/div[2]/div/div/div/form/div/div[1]/div/div[2]/div[2]/div[1]/div[1]/div[1]/div/div/div/div/div[2]/div/div/div/div')\n",
    "    message.send_keys(msg)\n",
    "    time.sleep(10)\n",
    "    post = driver.find_element_by_xpath('/html/body/div[1]/div/div/div[1]/div[4]/div/div/div[1]/div/div[2]/div/div/div/form/div/div[1]/div/div[2]/div[3]/div[2]/div')\n",
    "    post.click()\n",
    "    pass"
   ]
  },
  {
   "cell_type": "code",
   "execution_count": null,
   "metadata": {},
   "outputs": [],
   "source": []
  },
  {
   "cell_type": "code",
   "execution_count": 39,
   "metadata": {},
   "outputs": [
    {
     "ename": "NoSuchElementException",
     "evalue": "Message: no such element: Unable to locate element: {\"method\":\"xpath\",\"selector\":\"/html/body/div[1]/div/div/div[1]/div[4]/div/div/div[1]/div/div[2]/div/div/div/form/div/div[1]/div/div[2]/div[2]/div[1]/div[1]/div[1]/div/div/div/div/div[2]/div/div/div/div\"}\n  (Session info: chrome=88.0.4324.96)\n",
     "output_type": "error",
     "traceback": [
      "\u001b[0;31m---------------------------------------------------------------------------\u001b[0m",
      "\u001b[0;31mNoSuchElementException\u001b[0m                    Traceback (most recent call last)",
      "\u001b[0;32m<ipython-input-39-108b476603df>\u001b[0m in \u001b[0;36m<module>\u001b[0;34m\u001b[0m\n\u001b[0;32m----> 1\u001b[0;31m \u001b[0mpost_content\u001b[0m\u001b[0;34m(\u001b[0m\u001b[0;34m\"Test post via speech\"\u001b[0m\u001b[0;34m)\u001b[0m\u001b[0;34m\u001b[0m\u001b[0;34m\u001b[0m\u001b[0m\n\u001b[0m",
      "\u001b[0;32m<ipython-input-37-d65c4e775936>\u001b[0m in \u001b[0;36mpost_content\u001b[0;34m(msg)\u001b[0m\n\u001b[1;32m      4\u001b[0m     \u001b[0mtime\u001b[0m\u001b[0;34m.\u001b[0m\u001b[0msleep\u001b[0m\u001b[0;34m(\u001b[0m\u001b[0;36m3\u001b[0m\u001b[0;34m)\u001b[0m \u001b[0;31m## A 3 second break in the program so that everythin loads perfectly\u001b[0m\u001b[0;34m\u001b[0m\u001b[0;34m\u001b[0m\u001b[0m\n\u001b[1;32m      5\u001b[0m   \u001b[0;31m## Press ENTER to post the content on facebook\u001b[0m\u001b[0;34m\u001b[0m\u001b[0;34m\u001b[0m\u001b[0;34m\u001b[0m\u001b[0m\n\u001b[0;32m----> 6\u001b[0;31m     \u001b[0mmessage\u001b[0m \u001b[0;34m=\u001b[0m \u001b[0mdriver\u001b[0m\u001b[0;34m.\u001b[0m\u001b[0mfind_element_by_xpath\u001b[0m\u001b[0;34m(\u001b[0m\u001b[0;34m'/html/body/div[1]/div/div/div[1]/div[4]/div/div/div[1]/div/div[2]/div/div/div/form/div/div[1]/div/div[2]/div[2]/div[1]/div[1]/div[1]/div/div/div/div/div[2]/div/div/div/div'\u001b[0m\u001b[0;34m)\u001b[0m\u001b[0;34m\u001b[0m\u001b[0;34m\u001b[0m\u001b[0m\n\u001b[0m\u001b[1;32m      7\u001b[0m     \u001b[0mmessage\u001b[0m\u001b[0;34m.\u001b[0m\u001b[0msend_keys\u001b[0m\u001b[0;34m(\u001b[0m\u001b[0mmsg\u001b[0m\u001b[0;34m)\u001b[0m\u001b[0;34m\u001b[0m\u001b[0;34m\u001b[0m\u001b[0m\n\u001b[1;32m      8\u001b[0m     \u001b[0mtime\u001b[0m\u001b[0;34m.\u001b[0m\u001b[0msleep\u001b[0m\u001b[0;34m(\u001b[0m\u001b[0;36m10\u001b[0m\u001b[0;34m)\u001b[0m\u001b[0;34m\u001b[0m\u001b[0;34m\u001b[0m\u001b[0m\n",
      "\u001b[0;32m~/anaconda3/lib/python3.8/site-packages/selenium/webdriver/remote/webdriver.py\u001b[0m in \u001b[0;36mfind_element_by_xpath\u001b[0;34m(self, xpath)\u001b[0m\n\u001b[1;32m    392\u001b[0m             \u001b[0melement\u001b[0m \u001b[0;34m=\u001b[0m \u001b[0mdriver\u001b[0m\u001b[0;34m.\u001b[0m\u001b[0mfind_element_by_xpath\u001b[0m\u001b[0;34m(\u001b[0m\u001b[0;34m'//div/td[1]'\u001b[0m\u001b[0;34m)\u001b[0m\u001b[0;34m\u001b[0m\u001b[0;34m\u001b[0m\u001b[0m\n\u001b[1;32m    393\u001b[0m         \"\"\"\n\u001b[0;32m--> 394\u001b[0;31m         \u001b[0;32mreturn\u001b[0m \u001b[0mself\u001b[0m\u001b[0;34m.\u001b[0m\u001b[0mfind_element\u001b[0m\u001b[0;34m(\u001b[0m\u001b[0mby\u001b[0m\u001b[0;34m=\u001b[0m\u001b[0mBy\u001b[0m\u001b[0;34m.\u001b[0m\u001b[0mXPATH\u001b[0m\u001b[0;34m,\u001b[0m \u001b[0mvalue\u001b[0m\u001b[0;34m=\u001b[0m\u001b[0mxpath\u001b[0m\u001b[0;34m)\u001b[0m\u001b[0;34m\u001b[0m\u001b[0;34m\u001b[0m\u001b[0m\n\u001b[0m\u001b[1;32m    395\u001b[0m \u001b[0;34m\u001b[0m\u001b[0m\n\u001b[1;32m    396\u001b[0m     \u001b[0;32mdef\u001b[0m \u001b[0mfind_elements_by_xpath\u001b[0m\u001b[0;34m(\u001b[0m\u001b[0mself\u001b[0m\u001b[0;34m,\u001b[0m \u001b[0mxpath\u001b[0m\u001b[0;34m)\u001b[0m\u001b[0;34m:\u001b[0m\u001b[0;34m\u001b[0m\u001b[0;34m\u001b[0m\u001b[0m\n",
      "\u001b[0;32m~/anaconda3/lib/python3.8/site-packages/selenium/webdriver/remote/webdriver.py\u001b[0m in \u001b[0;36mfind_element\u001b[0;34m(self, by, value)\u001b[0m\n\u001b[1;32m    974\u001b[0m                 \u001b[0mby\u001b[0m \u001b[0;34m=\u001b[0m \u001b[0mBy\u001b[0m\u001b[0;34m.\u001b[0m\u001b[0mCSS_SELECTOR\u001b[0m\u001b[0;34m\u001b[0m\u001b[0;34m\u001b[0m\u001b[0m\n\u001b[1;32m    975\u001b[0m                 \u001b[0mvalue\u001b[0m \u001b[0;34m=\u001b[0m \u001b[0;34m'[name=\"%s\"]'\u001b[0m \u001b[0;34m%\u001b[0m \u001b[0mvalue\u001b[0m\u001b[0;34m\u001b[0m\u001b[0;34m\u001b[0m\u001b[0m\n\u001b[0;32m--> 976\u001b[0;31m         return self.execute(Command.FIND_ELEMENT, {\n\u001b[0m\u001b[1;32m    977\u001b[0m             \u001b[0;34m'using'\u001b[0m\u001b[0;34m:\u001b[0m \u001b[0mby\u001b[0m\u001b[0;34m,\u001b[0m\u001b[0;34m\u001b[0m\u001b[0;34m\u001b[0m\u001b[0m\n\u001b[1;32m    978\u001b[0m             'value': value})['value']\n",
      "\u001b[0;32m~/anaconda3/lib/python3.8/site-packages/selenium/webdriver/remote/webdriver.py\u001b[0m in \u001b[0;36mexecute\u001b[0;34m(self, driver_command, params)\u001b[0m\n\u001b[1;32m    319\u001b[0m         \u001b[0mresponse\u001b[0m \u001b[0;34m=\u001b[0m \u001b[0mself\u001b[0m\u001b[0;34m.\u001b[0m\u001b[0mcommand_executor\u001b[0m\u001b[0;34m.\u001b[0m\u001b[0mexecute\u001b[0m\u001b[0;34m(\u001b[0m\u001b[0mdriver_command\u001b[0m\u001b[0;34m,\u001b[0m \u001b[0mparams\u001b[0m\u001b[0;34m)\u001b[0m\u001b[0;34m\u001b[0m\u001b[0;34m\u001b[0m\u001b[0m\n\u001b[1;32m    320\u001b[0m         \u001b[0;32mif\u001b[0m \u001b[0mresponse\u001b[0m\u001b[0;34m:\u001b[0m\u001b[0;34m\u001b[0m\u001b[0;34m\u001b[0m\u001b[0m\n\u001b[0;32m--> 321\u001b[0;31m             \u001b[0mself\u001b[0m\u001b[0;34m.\u001b[0m\u001b[0merror_handler\u001b[0m\u001b[0;34m.\u001b[0m\u001b[0mcheck_response\u001b[0m\u001b[0;34m(\u001b[0m\u001b[0mresponse\u001b[0m\u001b[0;34m)\u001b[0m\u001b[0;34m\u001b[0m\u001b[0;34m\u001b[0m\u001b[0m\n\u001b[0m\u001b[1;32m    322\u001b[0m             response['value'] = self._unwrap_value(\n\u001b[1;32m    323\u001b[0m                 response.get('value', None))\n",
      "\u001b[0;32m~/anaconda3/lib/python3.8/site-packages/selenium/webdriver/remote/errorhandler.py\u001b[0m in \u001b[0;36mcheck_response\u001b[0;34m(self, response)\u001b[0m\n\u001b[1;32m    240\u001b[0m                 \u001b[0malert_text\u001b[0m \u001b[0;34m=\u001b[0m \u001b[0mvalue\u001b[0m\u001b[0;34m[\u001b[0m\u001b[0;34m'alert'\u001b[0m\u001b[0;34m]\u001b[0m\u001b[0;34m.\u001b[0m\u001b[0mget\u001b[0m\u001b[0;34m(\u001b[0m\u001b[0;34m'text'\u001b[0m\u001b[0;34m)\u001b[0m\u001b[0;34m\u001b[0m\u001b[0;34m\u001b[0m\u001b[0m\n\u001b[1;32m    241\u001b[0m             \u001b[0;32mraise\u001b[0m \u001b[0mexception_class\u001b[0m\u001b[0;34m(\u001b[0m\u001b[0mmessage\u001b[0m\u001b[0;34m,\u001b[0m \u001b[0mscreen\u001b[0m\u001b[0;34m,\u001b[0m \u001b[0mstacktrace\u001b[0m\u001b[0;34m,\u001b[0m \u001b[0malert_text\u001b[0m\u001b[0;34m)\u001b[0m\u001b[0;34m\u001b[0m\u001b[0;34m\u001b[0m\u001b[0m\n\u001b[0;32m--> 242\u001b[0;31m         \u001b[0;32mraise\u001b[0m \u001b[0mexception_class\u001b[0m\u001b[0;34m(\u001b[0m\u001b[0mmessage\u001b[0m\u001b[0;34m,\u001b[0m \u001b[0mscreen\u001b[0m\u001b[0;34m,\u001b[0m \u001b[0mstacktrace\u001b[0m\u001b[0;34m)\u001b[0m\u001b[0;34m\u001b[0m\u001b[0;34m\u001b[0m\u001b[0m\n\u001b[0m\u001b[1;32m    243\u001b[0m \u001b[0;34m\u001b[0m\u001b[0m\n\u001b[1;32m    244\u001b[0m     \u001b[0;32mdef\u001b[0m \u001b[0m_value_or_default\u001b[0m\u001b[0;34m(\u001b[0m\u001b[0mself\u001b[0m\u001b[0;34m,\u001b[0m \u001b[0mobj\u001b[0m\u001b[0;34m,\u001b[0m \u001b[0mkey\u001b[0m\u001b[0;34m,\u001b[0m \u001b[0mdefault\u001b[0m\u001b[0;34m)\u001b[0m\u001b[0;34m:\u001b[0m\u001b[0;34m\u001b[0m\u001b[0;34m\u001b[0m\u001b[0m\n",
      "\u001b[0;31mNoSuchElementException\u001b[0m: Message: no such element: Unable to locate element: {\"method\":\"xpath\",\"selector\":\"/html/body/div[1]/div/div/div[1]/div[4]/div/div/div[1]/div/div[2]/div/div/div/form/div/div[1]/div/div[2]/div[2]/div[1]/div[1]/div[1]/div/div/div/div/div[2]/div/div/div/div\"}\n  (Session info: chrome=88.0.4324.96)\n"
     ]
    }
   ],
   "source": [
    "post_content(\"Test post via\n",
    "\n",
    "Python 3\n",
    "\n",
    "    File\n",
    "    Edit\n",
    "    View\n",
    "    Insert\n",
    "    Cell\n",
    "    Kernel\n",
    "    Widgets\n",
    "    Help\n",
    "\n",
    "from selenium import webdriver \n",
    "\n",
    "from selenium.webdriver.common.keys import Keys\n",
    "\n",
    "from selenium.webdriver.common.by import By\n",
    "\n",
    "from selenium.webdriver.support.ui import WebDriverWait\n",
    "\n",
    "from selenium.webdriver.support import expected_conditions as EC\n",
    "\n",
    "from selenium.webdriver.chrome.options import Options\n",
    "\n",
    "from selenium.webdriver.common.action_chains import ActionChains\n",
    "\n",
    "import time\n",
    "\n",
    "import gi\n",
    "\n",
    "!pip install robobrowser\n",
    "\n",
    "Collecting robobrowser\n",
    "  Downloading robobrowser-0.5.3.tar.gz (22 kB)\n",
    "Requirement already satisfied: beautifulsoup4>=4.3.2 in /home/dazedtiara6667/anaconda3/lib/python3.8/site-packages (from robobrowser) (4.9.3)\n",
    "Requirement already satisfied: requests>=2.6.0 in /home/dazedtiara6667/anaconda3/lib/python3.8/site-packages (from robobrowser) (2.25.1)\n",
    "Requirement already satisfied: six>=1.9.0 in /home/dazedtiara6667/anaconda3/lib/python3.8/site-packages (from robobrowser) (1.15.0)\n",
    "Requirement already satisfied: Werkzeug>=0.10.4 in /home/dazedtiara6667/anaconda3/lib/python3.8/site-packages (from robobrowser) (1.0.1)\n",
    "Requirement already satisfied: soupsieve>1.2; python_version >= \"3.0\" in /home/dazedtiara6667/anaconda3/lib/python3.8/site-packages (from beautifulsoup4>=4.3.2->robobrowser) (2.0.1)\n",
    "Requirement already satisfied: certifi>=2017.4.17 in /home/dazedtiara6667/anaconda3/lib/python3.8/site-packages (from requests>=2.6.0->robobrowser) (2020.6.20)\n",
    "Requirement already satisfied: urllib3<1.27,>=1.21.1 in /home/dazedtiara6667/anaconda3/lib/python3.8/site-packages (from requests>=2.6.0->robobrowser) (1.25.9)\n",
    "Requirement already satisfied: chardet<5,>=3.0.2 in /home/dazedtiara6667/anaconda3/lib/python3.8/site-packages (from requests>=2.6.0->robobrowser) (3.0.4)\n",
    "Requirement already satisfied: idna<3,>=2.5 in /home/dazedtiara6667/anaconda3/lib/python3.8/site-packages (from requests>=2.6.0->robobrowser) (2.10)\n",
    "Building wheels for collected packages: robobrowser\n",
    "  Building wheel for robobrowser (setup.py) ... done\n",
    "  Created wheel for robobrowser: filename=robobrowser-0.5.3-py3-none-any.whl size=16417 sha256=b958bc61a9648549c425e7a9a9ca29f26512d1d77bda51b690e616ad41a921bb\n",
    "  Stored in directory: /home/dazedtiara6667/.cache/pip/wheels/29/f5/46/15be591132a6321c7c4f02e7c6c54efdc016b847f5642143f2\n",
    "Successfully built robobrowser\n",
    "Installing collected packages: robobrowser\n",
    "Successfully installed robobrowser-0.5.3\n",
    "\n",
    "PATH = 'chromedriver.exe'\n",
    "\n",
    "from webdriver_manager.chrome import ChromeDriverManager\n",
    "\n",
    "option = Options()\n",
    "\n",
    "option.add_argument(\"--disable-infobars\")\n",
    "\n",
    "option.add_argument(\"start-maximized\")\n",
    "\n",
    "option.add_argument(\"--disable-extensions\")\n",
    "\n",
    "# Pass the argument 1 to allow and 2 to block\n",
    "\n",
    "option.add_experimental_option(\"prefs\", { \n",
    "\n",
    "    \"profile.default_content_setting_values.notifications\": 2 \n",
    "\n",
    "})\n",
    "\n",
    "driver = webdriver.Chrome(ChromeDriverManager().install(),chrome_options=option)\n",
    "\n",
    "[WDM] - ====== WebDriver manager ======\n",
    "\n",
    "\n",
    "\n",
    "[WDM] - Current google-chrome version is 88.0.4324\n",
    "[WDM] - Get LATEST driver version for 88.0.4324\n",
    "[WDM] - Driver [/home/dazedtiara6667/.wdm/drivers/chromedriver/linux64/88.0.4324.96/chromedriver] found in cache\n",
    "<ipython-input-25-cb74b182fe9c>:1: DeprecationWarning: use options instead of chrome_options\n",
    "  driver = webdriver.Chrome(ChromeDriverManager().install(),chrome_options=option)\n",
    "\n",
    "driver.get(\"https://www.facebook.com/\")\n",
    "\n",
    "def login(id,password):\n",
    "\n",
    " email = driver.find_element_by_id(\"email\")\n",
    "\n",
    " email.send_keys(id)\n",
    "\n",
    " Password = driver.find_element_by_id(\"pass\")\n",
    "\n",
    " Password.send_keys(password)\n",
    "\n",
    " button = driver.find_element_by_id(\"loginbutton\").click()\n",
    "\n",
    " pass\n",
    "\n",
    "def post_content(msg):\n",
    "\n",
    "    body =  driver.find_element_by_xpath('/html/body/div[1]/div/div/div[1]/div[3]/div/div/div[1]/div/div/div[2]/div/div/div[3]/div/div[2]/div/div/div/div[1]')\n",
    "\n",
    "    body.click()\n",
    "\n",
    "    time.sleep(3) ## A 3 second break in the program so that everythin loads perfectly\n",
    "\n",
    "  ## Press ENTER to post the content on facebook\n",
    "\n",
    "    message = driver.find_element_by_xpath('/html/body/div[1]/div/div/div[1]/div[4]/div/div/div[1]/div/div[2]/div/div/div/form/div/div[1]/div/div[2]/div[2]/div[1]/div[1]/div[1]/div/div/div/div/div[2]/div/div/div/div')\n",
    "\n",
    "    message.send_keys(msg)\n",
    "\n",
    "    time.sleep(10)\n",
    "\n",
    "    post = driver.find_element_by_xpath('/html/body/div[1]/div/div/div[1]/div[4]/div/div/div[1]/div/div[2]/div/div/div/form/div/div[1]/div/div[2]/div[3]/div[2]/div')\n",
    "\n",
    "    post.click()\n",
    "\n",
    "    pass speech\")"
   ]
  },
  {
   "cell_type": "code",
   "execution_count": null,
   "metadata": {},
   "outputs": [],
   "source": []
  },
  {
   "cell_type": "code",
   "execution_count": 10,
   "metadata": {},
   "outputs": [],
   "source": [
    "import pyaudio\n",
    "import wave\n",
    "\n",
    "\n",
    "def record_audio(RECORD_SECONDS, WAVE_OUTPUT_FILENAME):\n",
    "    #--------- SETTING PARAMS FOR OUR AUDIO FILE ------------#\n",
    "    FORMAT = pyaudio.paInt16    # format of wave\n",
    "    CHANNELS = 2                # no. of audio channels\n",
    "    RATE = 44100                # frame rate\n",
    "    CHUNK = 1024                # frames per audio sample\n",
    "    #--------------------------------------------------------#\n",
    "     \n",
    "    # creating PyAudio object\n",
    "    audio = pyaudio.PyAudio()\n",
    "     \n",
    "    # open a new stream for microphone\n",
    "    # It creates a PortAudio Stream Wrapper class object\n",
    "    stream = audio.open(format=FORMAT,channels=CHANNELS,\n",
    "                        rate=RATE, input=True,\n",
    "                        frames_per_buffer=CHUNK)\n",
    "\n",
    "\n",
    "    #----------------- start of recording -------------------#\n",
    "    print(\"Listening...\")\n",
    "\n",
    "    # list to save all audio frames\n",
    "    frames = []\n",
    "\n",
    "    for i in range(int(RATE / CHUNK * RECORD_SECONDS)):\n",
    "        # read audio stream from microphone\n",
    "        data = stream.read(CHUNK)\n",
    "        # append audio data to frames list\n",
    "        frames.append(data)\n",
    "\n",
    "    #------------------ end of recording --------------------#   \n",
    "    print(\"Finished recording.\")\n",
    "      \n",
    "    stream.stop_stream()    # stop the stream object\n",
    "    stream.close()          # close the stream object\n",
    "    audio.terminate()       # terminate PortAudio\n",
    "\n",
    "    #------------------ saving audio ------------------------#\n",
    "\n",
    "    # create wave file object\n",
    "    waveFile = wave.open(WAVE_OUTPUT_FILENAME, 'wb')\n",
    "\n",
    "    # settings for wave file object\n",
    "    waveFile.setnchannels(CHANNELS)\n",
    "    waveFile.setsampwidth(audio.get_sample_size(FORMAT))\n",
    "    waveFile.setframerate(RATE)\n",
    "    waveFile.writeframes(b''.join(frames))\n",
    "\n",
    "    # closing the wave file object\n",
    "    waveFile.close()\n",
    "\n",
    "\n",
    "def read_audio(WAVE_FILENAME):\n",
    "    # function to read audio(wav) file\n",
    "    with open(WAVE_FILENAME, 'rb') as f:\n",
    "        audio = f.read()\n",
    "    return audio\n"
   ]
  },
  {
   "cell_type": "code",
   "execution_count": 14,
   "metadata": {},
   "outputs": [
    {
     "name": "stdout",
     "output_type": "stream",
     "text": [
      "Listening...\n",
      "Finished recording.\n",
      "{'entities': {}, 'intents': [{'confidence': 1, 'id': '122258079874949', 'name': 'login_fb'}], 'text': 'yes book', 'traits': {'wit$on_off': [{'confidence': 0.7294, 'id': '535a80f0-6922-4680-b678-0576f248cdcc', 'value': 'toggle'}]}}\n",
      "\n",
      "You said: yes book\n"
     ]
    }
   ],
   "source": [
    "import requests\n",
    "import json\n",
    "\n",
    "# Wit speech API endpoint\n",
    "API_ENDPOINT = 'https://api.wit.ai/speech'\n",
    "\n",
    "# Wit.ai api access token\n",
    "wit_access_token = 'AXDR64XOYFWHMNCR222PNQJHOBFPR4PT'\n",
    "\n",
    "def RecognizeSpeech(AUDIO_FILENAME, num_seconds = 10):\n",
    "    \n",
    "    # record audio of specified length in specified audio file\n",
    "    record_audio(num_seconds, AUDIO_FILENAME)\n",
    "    \n",
    "    # reading audio\n",
    "    audio = read_audio(AUDIO_FILENAME)\n",
    "    \n",
    "    # defining headers for HTTP request\n",
    "    headers = {'authorization': 'Bearer ' + wit_access_token,\n",
    "               'Content-Type': 'audio/wav'}\n",
    "\n",
    "    # making an HTTP post request\n",
    "    resp = requests.post(API_ENDPOINT, headers = headers,\n",
    "                         data = audio)\n",
    "    \n",
    "    # converting response content to JSON format\n",
    "    data = json.loads(resp.content)\n",
    "    \n",
    "    # get text from data\n",
    "    print(data)\n",
    "    texts = data['text']\n",
    "    \n",
    "    # return the text\n",
    "    return texts\n",
    "\n",
    "\n",
    "if __name__ == \"__main__\":\n",
    "    text =  RecognizeSpeech('xpeech.wav')\n",
    "    print(\"\\nYou said: {}\".format(text))\n",
    "    if(text.lower()==\"Log me into facebook\".lower()):\n",
    "        speak()\n",
    "        \n"
   ]
  },
  {
   "cell_type": "code",
   "execution_count": null,
   "metadata": {},
   "outputs": [],
   "source": [
    "from gtts import gTTS\n",
    "from playsound import playsound\n",
    "# This module is imported so that we can \n",
    "# play the converted audio\n",
    "import os\n",
    "  \n",
    "# The text that you want to convert to audio\n",
    "mytext = \"Okay! Please say your email. Note that we are not saving anything\"\n",
    "  \n",
    "# Language in which you want to convert\n",
    "language = 'en'\n",
    "  \n",
    "# Passing the text and language to the engine, \n",
    "# here we have marked slow=False. Which tells \n",
    "# the module that the converted audio should \n",
    "# have a high speed\n",
    "myobj = gTTS(text=mytext, lang=language, slow=False)\n",
    "  \n",
    "# Saving the converted audio in a mp3 file named\n",
    "# welcome \n",
    "myobj.save(\"welcome.mp3\")\n",
    "  \n",
    "# Playing the converted file\n",
    "playsound(\"welcome.mp3\")"
   ]
  },
  {
   "cell_type": "code",
   "execution_count": null,
   "metadata": {},
   "outputs": [],
   "source": [
    "import pyttsx3\n",
    "def speak():\n",
    "    engine = pyttsx3.init()\n",
    "    engine.setProperty('rate', 150)\n",
    "    voices = engine.getProperty('voices')\n",
    "\n",
    "    # Set volume 0-1\n",
    "    engine.setProperty('voice', voices[10].id)\n",
    "\n",
    "    engine.setProperty('volume', 0.7)\n",
    "    engine.say(\"Please speak your email. Note that we are not saving anything and this is completely safe\")\n",
    "    engine.runAndWait()\n",
    "    speakEmailAndPassword()\n",
    "def speakEmailAndPassword():\n",
    "    text =  RecognizeSpeech('speech.wav')\n",
    "    words = text.split()\n",
    "    number=\"\"\n",
    "    i = 0\n",
    "    for word in words:\n",
    "        if(i==10):\n",
    "            break\n",
    "        if(word==\"one\"):\n",
    "            number+=str(1)\n",
    "        elif(word==\"zero\"):\n",
    "            number+=str(0)\n",
    "        elif(word==\"two\"):\n",
    "            number+=str(2)\n",
    "        elif(word==\"three\"):\n",
    "            number+=str(3)\n",
    "        elif(word==\"four\"):\n",
    "            number+=str(4)\n",
    "        elif(word==\"five\"):\n",
    "            number+=str(5)\n",
    "        elif(word==\"six\"):\n",
    "            number+=str(6)\n",
    "        elif(word==\"seven\"):\n",
    "            number+=str(7)\n",
    "        elif(word==\"eight\"):\n",
    "            number+=str(8)\n",
    "        elif(word==\"nine\"):\n",
    "            number+=str(9)\n",
    "        i+=1\n",
    "    \n",
    "    password = words[-1]\n",
    "    print(password)\n",
    "    print(number)\n",
    "    login(number,password)\n",
    "\n"
   ]
  },
  {
   "cell_type": "code",
   "execution_count": null,
   "metadata": {},
   "outputs": [],
   "source": [
    "import pyttsx3\n",
    "engine = pyttsx3.init()\n",
    "voices = engine.getProperty('voices')\n",
    "for voice in voices:\n",
    "    print(voice, voice.id)\n",
    "    engine.setProperty('voice', voice.id)\n",
    "    engine.say(\"Hello World!\")\n",
    "    engine.runAndWait()\n",
    "    engine.stop()"
   ]
  },
  {
   "cell_type": "code",
   "execution_count": null,
   "metadata": {},
   "outputs": [],
   "source": []
  },
  {
   "cell_type": "code",
   "execution_count": null,
   "metadata": {},
   "outputs": [],
   "source": [
    "import gtts  \n",
    "t1 = gtts.gTTS(\"Welcome to javaTpoint\")  \n",
    "t1.save(\"welcome.mp3\")   \n",
    "playsound(\"welcome.mp3\")  "
   ]
  },
  {
   "cell_type": "code",
   "execution_count": 20,
   "metadata": {},
   "outputs": [
    {
     "ename": "ImportError",
     "evalue": "cannot import name 'cached_property' from 'werkzeug' (/home/dazedtiara6667/anaconda3/lib/python3.8/site-packages/werkzeug/__init__.py)",
     "output_type": "error",
     "traceback": [
      "\u001b[0;31m---------------------------------------------------------------------------\u001b[0m",
      "\u001b[0;31mImportError\u001b[0m                               Traceback (most recent call last)",
      "\u001b[0;32m<ipython-input-20-1a4bfc75721b>\u001b[0m in \u001b[0;36m<module>\u001b[0;34m\u001b[0m\n\u001b[0;32m----> 1\u001b[0;31m \u001b[0;32mimport\u001b[0m \u001b[0mrobobrowser\u001b[0m\u001b[0;34m\u001b[0m\u001b[0;34m\u001b[0m\u001b[0m\n\u001b[0m\u001b[1;32m      2\u001b[0m \u001b[0;34m\u001b[0m\u001b[0m\n\u001b[1;32m      3\u001b[0m \u001b[0;32mclass\u001b[0m \u001b[0mFacebook\u001b[0m\u001b[0;34m(\u001b[0m\u001b[0mrobobrowser\u001b[0m\u001b[0;34m.\u001b[0m\u001b[0mRoboBrowser\u001b[0m\u001b[0;34m)\u001b[0m\u001b[0;34m:\u001b[0m\u001b[0;34m\u001b[0m\u001b[0;34m\u001b[0m\u001b[0m\n\u001b[1;32m      4\u001b[0m \u001b[0;34m\u001b[0m\u001b[0m\n\u001b[1;32m      5\u001b[0m     \u001b[0murl\u001b[0m \u001b[0;34m=\u001b[0m \u001b[0;34m'https://facebook.com'\u001b[0m\u001b[0;34m\u001b[0m\u001b[0;34m\u001b[0m\u001b[0m\n",
      "\u001b[0;32m~/anaconda3/lib/python3.8/site-packages/robobrowser/__init__.py\u001b[0m in \u001b[0;36m<module>\u001b[0;34m\u001b[0m\n\u001b[1;32m      1\u001b[0m \u001b[0m__version__\u001b[0m \u001b[0;34m=\u001b[0m \u001b[0;34m'0.5.3'\u001b[0m\u001b[0;34m\u001b[0m\u001b[0;34m\u001b[0m\u001b[0m\n\u001b[1;32m      2\u001b[0m \u001b[0;34m\u001b[0m\u001b[0m\n\u001b[0;32m----> 3\u001b[0;31m \u001b[0;32mfrom\u001b[0m \u001b[0;34m.\u001b[0m\u001b[0mbrowser\u001b[0m \u001b[0;32mimport\u001b[0m \u001b[0mRoboBrowser\u001b[0m\u001b[0;34m\u001b[0m\u001b[0;34m\u001b[0m\u001b[0m\n\u001b[0m\u001b[1;32m      4\u001b[0m \u001b[0;34m\u001b[0m\u001b[0m\n\u001b[1;32m      5\u001b[0m \u001b[0m__all__\u001b[0m \u001b[0;34m=\u001b[0m \u001b[0;34m[\u001b[0m\u001b[0;34m'RoboBrowser'\u001b[0m\u001b[0;34m]\u001b[0m\u001b[0;34m\u001b[0m\u001b[0;34m\u001b[0m\u001b[0m\n",
      "\u001b[0;32m~/anaconda3/lib/python3.8/site-packages/robobrowser/browser.py\u001b[0m in \u001b[0;36m<module>\u001b[0;34m\u001b[0m\n\u001b[1;32m      6\u001b[0m \u001b[0;32mimport\u001b[0m \u001b[0mrequests\u001b[0m\u001b[0;34m\u001b[0m\u001b[0;34m\u001b[0m\u001b[0m\n\u001b[1;32m      7\u001b[0m \u001b[0;32mfrom\u001b[0m \u001b[0mbs4\u001b[0m \u001b[0;32mimport\u001b[0m \u001b[0mBeautifulSoup\u001b[0m\u001b[0;34m\u001b[0m\u001b[0;34m\u001b[0m\u001b[0m\n\u001b[0;32m----> 8\u001b[0;31m \u001b[0;32mfrom\u001b[0m \u001b[0mwerkzeug\u001b[0m \u001b[0;32mimport\u001b[0m \u001b[0mcached_property\u001b[0m\u001b[0;34m\u001b[0m\u001b[0;34m\u001b[0m\u001b[0m\n\u001b[0m\u001b[1;32m      9\u001b[0m \u001b[0;32mfrom\u001b[0m \u001b[0mrequests\u001b[0m\u001b[0;34m.\u001b[0m\u001b[0mpackages\u001b[0m\u001b[0;34m.\u001b[0m\u001b[0murllib3\u001b[0m\u001b[0;34m.\u001b[0m\u001b[0mutil\u001b[0m\u001b[0;34m.\u001b[0m\u001b[0mretry\u001b[0m \u001b[0;32mimport\u001b[0m \u001b[0mRetry\u001b[0m\u001b[0;34m\u001b[0m\u001b[0;34m\u001b[0m\u001b[0m\n\u001b[1;32m     10\u001b[0m \u001b[0;34m\u001b[0m\u001b[0m\n",
      "\u001b[0;31mImportError\u001b[0m: cannot import name 'cached_property' from 'werkzeug' (/home/dazedtiara6667/anaconda3/lib/python3.8/site-packages/werkzeug/__init__.py)"
     ]
    }
   ],
   "source": [
    "import robobrowser\n",
    "\n",
    "class Facebook(robobrowser.RoboBrowser):\n",
    "\n",
    "    url = 'https://facebook.com'\n",
    "\n",
    "    def __init__(self, email, password):\n",
    "        self.email = email\n",
    "        self.password = password\n",
    "        super().__init__()\n",
    "        self.login()\n",
    "\n",
    "    def login(self):\n",
    "        self.open(self.url)    \n",
    "        login_form = self.get_form(id='login_form')\n",
    "        login_form['email'] = self.email\n",
    "        login_form['pass'] = self.password\n",
    "        self.submit_form(login_form)"
   ]
  },
  {
   "cell_type": "code",
   "execution_count": 19,
   "metadata": {},
   "outputs": [
    {
     "ename": "NameError",
     "evalue": "name 'Facebook' is not defined",
     "output_type": "error",
     "traceback": [
      "\u001b[0;31m---------------------------------------------------------------------------\u001b[0m",
      "\u001b[0;31mNameError\u001b[0m                                 Traceback (most recent call last)",
      "\u001b[0;32m<ipython-input-19-3c2df6d82018>\u001b[0m in \u001b[0;36m<module>\u001b[0;34m\u001b[0m\n\u001b[0;32m----> 1\u001b[0;31m \u001b[0mfb\u001b[0m \u001b[0;34m=\u001b[0m \u001b[0mFacebook\u001b[0m\u001b[0;34m(\u001b[0m\u001b[0;36m9307057388\u001b[0m\u001b[0;34m,\u001b[0m\u001b[0;34m\"spaces\"\u001b[0m\u001b[0;34m)\u001b[0m\u001b[0;34m\u001b[0m\u001b[0;34m\u001b[0m\u001b[0m\n\u001b[0m",
      "\u001b[0;31mNameError\u001b[0m: name 'Facebook' is not defined"
     ]
    }
   ],
   "source": []
  },
  {
   "cell_type": "code",
   "execution_count": 54,
   "metadata": {},
   "outputs": [],
   "source": [
    "def page_posting(post):\n",
    "        \n",
    "        # This function is to do posting on website\n",
    "        # Takes argument for posting text\n",
    "        # Sucessful operation will return 1\n",
    "    \n",
    "            \n",
    "        # These operations will be followed \n",
    "        # by time patterns function,\n",
    "        # and in the end also\n",
    "        # use reverse_visit to reverse the page by one\n",
    "\n",
    "        body = driver.find_element_by_xpath('/html/body/div[1]/div/div/div[1]/div[3]/div/div/div[1]/div/div/div[2]/div/div/div[3]/div/div[2]/div/div/div/div[1]')\n",
    "        body.click()\n",
    "\n",
    "        time.sleep(5)\n",
    "        activepostarea=driver.switch_to_active_element()\n",
    "        activepostarea.send_keys(post)\n",
    "        time.sleep(10)\n",
    "\n",
    "        postbt = driver.find_element_by_xpath(\"/html/body/div[1]/div/div[1]/div/div[4]/div/div/div[1]/div/div[2]/div/div/div/form/div/div[1]/div/div/div/div[3]/div[2]/div\")\n",
    "        postbt.click()\n",
    "        return 1"
   ]
  },
  {
   "cell_type": "code",
   "execution_count": 61,
   "metadata": {},
   "outputs": [
    {
     "name": "stderr",
     "output_type": "stream",
     "text": [
      "<ipython-input-54-b78945a02a16>:17: DeprecationWarning: use driver.switch_to.active_element instead\n",
      "  activepostarea=driver.switch_to_active_element()\n"
     ]
    },
    {
     "data": {
      "text/plain": [
       "1"
      ]
     },
     "execution_count": 61,
     "metadata": {},
     "output_type": "execute_result"
    }
   ],
   "source": [
    "page_posting(\"Post via speechs\")"
   ]
  },
  {
   "cell_type": "code",
   "execution_count": 20,
   "metadata": {},
   "outputs": [],
   "source": [
    "def do_login(user_name = None, user_pass = None ):\n",
    "        user_xpath = \"//input[@id='email']\"\n",
    "        # Xpath for Facebook login password\n",
    "        pass_xpath = \"//input[@id='pass']\"\n",
    "        if user_name != None or user_pass != None :\n",
    "            driver.find_element_by_xpath(user_xpath).send_keys(user_name)\n",
    "            driver.find_element_by_xpath(pass_xpath).send_keys(user_pass, Keys.ENTER)\n",
    "            return 1\n",
    "       "
   ]
  },
  {
   "cell_type": "code",
   "execution_count": 59,
   "metadata": {},
   "outputs": [
    {
     "data": {
      "text/plain": [
       "1"
      ]
     },
     "execution_count": 59,
     "metadata": {},
     "output_type": "execute_result"
    }
   ],
   "source": []
  },
  {
   "cell_type": "code",
   "execution_count": null,
   "metadata": {},
   "outputs": [],
   "source": []
  }
 ],
 "metadata": {
  "kernelspec": {
   "display_name": "Python 3",
   "language": "python",
   "name": "python3"
  },
  "language_info": {
   "codemirror_mode": {
    "name": "ipython",
    "version": 3
   },
   "file_extension": ".py",
   "mimetype": "text/x-python",
   "name": "python",
   "nbconvert_exporter": "python",
   "pygments_lexer": "ipython3",
   "version": "3.8.3"
  }
 },
 "nbformat": 4,
 "nbformat_minor": 4
}

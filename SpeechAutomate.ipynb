{
 "cells": [
  {
   "cell_type": "code",
   "execution_count": null,
   "metadata": {},
   "outputs": [],
   "source": [
    "from FacebookAutomater import *\n",
    "from AudioProcessor import *\n",
    "import requests\n",
    "import json\n",
    "import pyttsx3\n",
    "import gi"
   ]
  },
  {
   "cell_type": "code",
   "execution_count": null,
   "metadata": {},
   "outputs": [],
   "source": [
    "fb = FacebookAutomater()"
   ]
  },
  {
   "cell_type": "code",
   "execution_count": null,
   "metadata": {},
   "outputs": [],
   "source": [
    "fb.initiate_chrome()"
   ]
  },
  {
   "cell_type": "code",
   "execution_count": null,
   "metadata": {},
   "outputs": [],
   "source": [
    "API_ENDPOINT = 'https://api.wit.ai/speech'\n",
    "wit_access_token = ''\n"
   ]
  },
  {
   "cell_type": "code",
   "execution_count": null,
   "metadata": {},
   "outputs": [],
   "source": [
    "def speak(message):\n",
    "    engine = pyttsx3.init()\n",
    "    engine.setProperty('rate', 150)\n",
    "    voices = engine.getProperty('voices')\n",
    "\n",
    "    # Set volume 0-1\n",
    "    engine.setProperty('voice', voices[10].id)\n",
    "\n",
    "    engine.setProperty('volume', 0.7)\n",
    "    engine.say(message)\n",
    "    engine.runAndWait()"
   ]
  },
  {
   "cell_type": "code",
   "execution_count": null,
   "metadata": {},
   "outputs": [],
   "source": [
    "def speakEmailAndPassword():\n",
    "    text =  RecognizeSpeech('xspeech.wav')\n",
    "    words = text.split()\n",
    "    number=\"\"\n",
    "    i = 0\n",
    "    for word in words:\n",
    "        if(i==10):\n",
    "            break\n",
    "        if(word==\"one\"):\n",
    "            number+=str(1)\n",
    "        elif(word==\"zero\"):\n",
    "            number+=str(0)\n",
    "        elif(word==\"two\"):\n",
    "            number+=str(2)\n",
    "        elif(word==\"three\"):\n",
    "            number+=str(3)\n",
    "        elif(word==\"four\"):\n",
    "            number+=str(4)\n",
    "        elif(word==\"five\"):\n",
    "            number+=str(5)\n",
    "        elif(word==\"six\"):\n",
    "            number+=str(6)\n",
    "        elif(word==\"seven\"):\n",
    "            number+=str(7)\n",
    "        elif(word==\"eight\"):\n",
    "            number+=str(8)\n",
    "        elif(word==\"nine\"):\n",
    "            number+=str(9)\n",
    "        i+=1\n",
    "    password = words[-1]\n",
    "    print(password)\n",
    "    print(number)\n",
    "    if(fb.do_login(number,password)):\n",
    "        speak(\"You have successfully logged in!\")\n",
    "        return 1\n",
    "    else:\n",
    "        print(\"error\")\n",
    "        return 0"
   ]
  },
  {
   "cell_type": "code",
   "execution_count": null,
   "metadata": {},
   "outputs": [],
   "source": [
    "def RecognizeSpeech(AUDIO_FILENAME, num_seconds = 10):\n",
    "    \n",
    "    # record audio of specified length in specified audio file\n",
    "    record_audio(num_seconds, AUDIO_FILENAME)\n",
    "    \n",
    "    # reading audio\n",
    "    audio = read_audio(AUDIO_FILENAME)\n",
    "    \n",
    "    # defining headers for HTTP request\n",
    "    headers = {'authorization': 'Bearer ' + wit_access_token,\n",
    "               'Content-Type': 'audio/wav'}\n",
    "\n",
    "    # making an HTTP post request\n",
    "    resp = requests.post(API_ENDPOINT, headers = headers,\n",
    "                         data = audio)\n",
    "    \n",
    "    # converting response content to JSON format\n",
    "    data = json.loads(resp.content)\n",
    "    \n",
    "    # get text from data\n",
    "    print(data)\n",
    "    texts = data['text']\n",
    "    \n",
    "    # return the text\n",
    "    return texts"
   ]
  },
  {
   "cell_type": "code",
   "execution_count": null,
   "metadata": {},
   "outputs": [],
   "source": [
    "fb.page_load()\n"
   ]
  },
  {
   "cell_type": "code",
   "execution_count": null,
   "metadata": {},
   "outputs": [],
   "source": [
    "fb.page_load()\n",
    "time.sleep(10)\n",
    "LOGIN_MSG = \"Please speak your email and password. Note that we are not saving anything and this is completely safe\"\n",
    "if __name__ == \"__main__\":\n",
    "    text =  RecognizeSpeech('user_input.wav')\n",
    "    print(\"\\nYou said: {}\".format(text))\n",
    "    if(text.lower()==\"Log me into facebook\".lower() or \"into facebook\" in text.lower()):\n",
    "        speak(LOGIN_MSG)\n",
    "        if(speakEmailAndPassword()):\n",
    "            post = RecognizeSpeech('post.wav')\n",
    "            fb.page_posting(post)\n",
    "        "
   ]
  },
  {
   "cell_type": "code",
   "execution_count": null,
   "metadata": {},
   "outputs": [],
   "source": []
  },
  {
   "cell_type": "code",
   "execution_count": null,
   "metadata": {},
   "outputs": [],
   "source": []
  },
  {
   "cell_type": "code",
   "execution_count": null,
   "metadata": {},
   "outputs": [],
   "source": []
  },
  {
   "cell_type": "code",
   "execution_count": null,
   "metadata": {},
   "outputs": [],
   "source": []
  },
  {
   "cell_type": "code",
   "execution_count": null,
   "metadata": {},
   "outputs": [],
   "source": []
  }
 ],
 "metadata": {
  "kernelspec": {
   "display_name": "Python 3",
   "language": "python",
   "name": "python3"
  },
  "language_info": {
   "codemirror_mode": {
    "name": "ipython",
    "version": 3
   },
   "file_extension": ".py",
   "mimetype": "text/x-python",
   "name": "python",
   "nbconvert_exporter": "python",
   "pygments_lexer": "ipython3",
   "version": "3.8.3"
  }
 },
 "nbformat": 4,
 "nbformat_minor": 4
}
